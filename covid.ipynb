{
 "cells": [
  {
   "cell_type": "code",
   "execution_count": null,
   "metadata": {},
   "outputs": [],
   "source": [
    "import numpy as np\n",
    "import pandas as pd\n",
    "import matplotlib.pyplot as plt\n",
    "import seaborn as sns"
   ]
  },
  {
   "attachments": {},
   "cell_type": "markdown",
   "metadata": {},
   "source": [
    "## 0. Préalable\n",
    "Chargement des données"
   ]
  },
  {
   "cell_type": "code",
   "execution_count": null,
   "metadata": {},
   "outputs": [],
   "source": [
    "covid_0 = pd.read_excel('covid.xlsx')"
   ]
  },
  {
   "cell_type": "code",
   "execution_count": null,
   "metadata": {},
   "outputs": [],
   "source": [
    "# on réalise une copie de notre dataset pour ne pas l'altérer durant notre étude\n",
    "covid = covid_0.copy()"
   ]
  },
  {
   "attachments": {},
   "cell_type": "markdown",
   "metadata": {},
   "source": [
    "## 1. Exploratory Data Analysis (EDA)"
   ]
  },
  {
   "attachments": {},
   "cell_type": "markdown",
   "metadata": {},
   "source": [
    "### 1.1. Analyse de forme"
   ]
  },
  {
   "attachments": {},
   "cell_type": "markdown",
   "metadata": {},
   "source": [
    "Bref aperçu du contenu du dataset"
   ]
  },
  {
   "cell_type": "code",
   "execution_count": null,
   "metadata": {},
   "outputs": [],
   "source": [
    "covid.sample(5) # visualiser un échantillon aléatoire du dataset"
   ]
  },
  {
   "attachments": {},
   "cell_type": "markdown",
   "metadata": {},
   "source": [
    "Dimension du dataset"
   ]
  },
  {
   "cell_type": "code",
   "execution_count": null,
   "metadata": {},
   "outputs": [],
   "source": [
    "covid.shape # dimension du dataset (nombre de lignes, nombre de colonnes)"
   ]
  },
  {
   "attachments": {},
   "cell_type": "markdown",
   "metadata": {},
   "source": [
    "Analyse du type de chaque variable"
   ]
  },
  {
   "cell_type": "code",
   "execution_count": null,
   "metadata": {},
   "outputs": [],
   "source": [
    "# pd.set_option('display.max_row', 111)\n",
    "covid.dtypes # retourne le type de chaque variable"
   ]
  },
  {
   "cell_type": "code",
   "execution_count": null,
   "metadata": {},
   "outputs": [],
   "source": [
    "covid.dtypes.value_counts()"
   ]
  },
  {
   "attachments": {},
   "cell_type": "markdown",
   "metadata": {},
   "source": [
    "Analyse des valeurs manquantes"
   ]
  },
  {
   "cell_type": "code",
   "execution_count": null,
   "metadata": {},
   "outputs": [],
   "source": [
    "plt.figure(figsize=(20,10))\n",
    "sns.heatmap(covid.isna(), cbar=False)"
   ]
  },
  {
   "cell_type": "code",
   "execution_count": null,
   "metadata": {},
   "outputs": [],
   "source": [
    "# covid.isna().sum()\n",
    "(covid.isna().sum() * 100 / covid.shape[0]).sort_values()"
   ]
  },
  {
   "attachments": {},
   "cell_type": "markdown",
   "metadata": {},
   "source": [
    "> Résumé de l'analyse de forme\n",
    "\n",
    "1. **Variable target :** SARS-Cov-2 exam result\n",
    "2. **Dimension du dataset :** (5644, 111)\n",
    "3. **Types des variables :** 70 qualitatives et 41 quantitatives\n",
    "4. **Identification des valeurs manquantes :** \n",
    "- beaucoup de Nan (moitié des variables > 90% de NaN)\n",
    "- 2 groupes de données : <br>\n",
    "76% -> tests viraux (bactéries, virus)<br>\n",
    "89% -> tests sanguins (cellules)<br>"
   ]
  },
  {
   "attachments": {},
   "cell_type": "markdown",
   "metadata": {},
   "source": [
    "### 1.2. Analyse de fond"
   ]
  },
  {
   "attachments": {},
   "cell_type": "markdown",
   "metadata": {},
   "source": [
    "Elimination des colonnes inutiles"
   ]
  },
  {
   "cell_type": "code",
   "execution_count": null,
   "metadata": {},
   "outputs": [],
   "source": [
    "covid.dropna(axis=1, how='all', inplace=True) # suppression des colonnes vides\n",
    "covid.shape"
   ]
  },
  {
   "cell_type": "code",
   "execution_count": null,
   "metadata": {},
   "outputs": [],
   "source": [
    "covid = covid[covid.columns[covid.isna().sum() / covid.shape[0] < 0.9]] # suppression de toutes les colonnes avec plus de 90% de valeurs manquantes\n",
    "covid.shape"
   ]
  },
  {
   "cell_type": "code",
   "execution_count": null,
   "metadata": {},
   "outputs": [],
   "source": [
    "covid.drop('Patient ID', axis=1, inplace=True) # suppression de l'identifiant des patients"
   ]
  },
  {
   "cell_type": "code",
   "execution_count": null,
   "metadata": {},
   "outputs": [],
   "source": [
    "covid.sample(3)"
   ]
  },
  {
   "attachments": {},
   "cell_type": "markdown",
   "metadata": {},
   "source": [
    "Visualisation de la target"
   ]
  },
  {
   "cell_type": "code",
   "execution_count": null,
   "metadata": {},
   "outputs": [],
   "source": [
    "# covid['SARS-Cov-2 exam result'].value_counts()\n",
    "covid['SARS-Cov-2 exam result'].value_counts(normalize=True) * 100"
   ]
  },
  {
   "attachments": {},
   "cell_type": "markdown",
   "metadata": {},
   "source": [
    "Histogramme des variables continues"
   ]
  },
  {
   "cell_type": "code",
   "execution_count": null,
   "metadata": {},
   "outputs": [],
   "source": [
    "# visualisation des variables flottantes\n",
    "for colonne in covid.select_dtypes('float'):\n",
    "\tplt.figure()\n",
    "\tsns.distplot(covid[colonne])"
   ]
  },
  {
   "cell_type": "code",
   "execution_count": null,
   "metadata": {},
   "outputs": [],
   "source": [
    "sns.distplot(covid['Patient age quantile'], bins=20) # visualisation de l'age"
   ]
  },
  {
   "attachments": {},
   "cell_type": "markdown",
   "metadata": {},
   "source": [
    "Visualisation des variables discrètes"
   ]
  },
  {
   "cell_type": "code",
   "execution_count": null,
   "metadata": {},
   "outputs": [],
   "source": [
    "for colonne in covid.select_dtypes('object'):\n",
    "\tprint(f'{colonne :-<30} {covid[colonne].unique()}')"
   ]
  },
  {
   "cell_type": "code",
   "execution_count": null,
   "metadata": {},
   "outputs": [],
   "source": [
    "for colonne in covid.select_dtypes('object'):\n",
    "\tplt.figure()\n",
    "\tcovid[colonne].value_counts().plot.pie()"
   ]
  },
  {
   "attachments": {},
   "cell_type": "markdown",
   "metadata": {},
   "source": [
    "Création de sous-ensembles positifs et négatifs"
   ]
  },
  {
   "cell_type": "code",
   "execution_count": null,
   "metadata": {},
   "outputs": [],
   "source": [
    "positive_covid = covid[covid['SARS-Cov-2 exam result']\t== 'positive']\n",
    "negative_covid = covid[covid['SARS-Cov-2 exam result']\t== 'negative']"
   ]
  },
  {
   "attachments": {},
   "cell_type": "markdown",
   "metadata": {},
   "source": [
    "Création des sous-ensembles Virus et Sang"
   ]
  },
  {
   "cell_type": "code",
   "execution_count": null,
   "metadata": {},
   "outputs": [],
   "source": [
    "missing_rate = covid.isna().sum() / covid.shape[0]\n",
    "blood_columns = covid.columns[(missing_rate < 0.9) & (missing_rate > 0.88)]\n",
    "viral_columns = covid.columns[(missing_rate < 0.87) & (missing_rate > 0.75)]"
   ]
  },
  {
   "attachments": {},
   "cell_type": "markdown",
   "metadata": {},
   "source": [
    "Relation target/blood"
   ]
  },
  {
   "cell_type": "code",
   "execution_count": null,
   "metadata": {},
   "outputs": [],
   "source": [
    "for colonne in blood_columns:\n",
    "\tplt.figure()\n",
    "\tsns.distplot(positive_covid[colonne], label='positive')\n",
    "\tsns.distplot(negative_covid[colonne], label='negative')\n",
    "\tplt.legend()"
   ]
  },
  {
   "attachments": {},
   "cell_type": "markdown",
   "metadata": {},
   "source": [
    "Relation target/age"
   ]
  },
  {
   "cell_type": "code",
   "execution_count": null,
   "metadata": {},
   "outputs": [],
   "source": [
    "sns.countplot(data=covid, x='Patient age quantile', hue='SARS-Cov-2 exam result')"
   ]
  },
  {
   "attachments": {},
   "cell_type": "markdown",
   "metadata": {},
   "source": [
    "Relation target/viral"
   ]
  },
  {
   "cell_type": "code",
   "execution_count": null,
   "metadata": {},
   "outputs": [],
   "source": [
    "for colonne in viral_columns:\n",
    "\tplt.figure()\n",
    "\tsns.heatmap(pd.crosstab(covid['SARS-Cov-2 exam result'], covid[colonne]), annot=True, fmt='d')"
   ]
  },
  {
   "attachments": {},
   "cell_type": "markdown",
   "metadata": {},
   "source": [
    "> Résumé de l'analyse de fond\n",
    "\n",
    "1. **Visualisation de la target :** 10% de cas positifs\n",
    "2. **Signification des variables :** \n",
    "- variables continues standardisées, skewed (asymétriques), test sanguin\n",
    "- age quantile : graphique difficile à interpréter car les données ont été traitées et la nature de ce traitement est inconnue\n",
    "- variables qualitatives : binaires, virales, Rhinovirus très varié\n",
    "3. **Visualisation des relations features/target :** \n",
    "- target/blood : les taux de leucocytes, monocytes et plaquettes semblent liés au covid 19\n",
    "- target/age : les individus d'age faible sont très peu contaminés\n",
    "- target/viral : les doubles maladies sont très rares. Rhinovirus/Enterovirus positif => covid 19 positif ?"
   ]
  },
  {
   "attachments": {},
   "cell_type": "markdown",
   "metadata": {},
   "source": [
    "> Conclusions initiales de l'EDA<br>\n",
    "> - Beacoup de données manquantes (au mieux, on garde 20% du dataset)\n",
    "> - 2 groupes de données intéressantes (viral et sanguin)\n",
    "> - Presque pas de variable discriminante pour distinguer les cas positifs/négatifs."
   ]
  },
  {
   "attachments": {},
   "cell_type": "markdown",
   "metadata": {},
   "source": [
    "### Analyse plus détaillée"
   ]
  },
  {
   "attachments": {},
   "cell_type": "markdown",
   "metadata": {},
   "source": [
    "Relations variables/variables"
   ]
  },
  {
   "attachments": {},
   "cell_type": "markdown",
   "metadata": {},
   "source": [
    "Relations taux sanguin"
   ]
  },
  {
   "cell_type": "code",
   "execution_count": null,
   "metadata": {},
   "outputs": [],
   "source": [
    "sns.heatmap(covid[blood_columns].corr())"
   ]
  },
  {
   "attachments": {},
   "cell_type": "markdown",
   "metadata": {},
   "source": [
    "Relations age/sang"
   ]
  },
  {
   "cell_type": "code",
   "execution_count": null,
   "metadata": {},
   "outputs": [],
   "source": [
    "for colonne in blood_columns:\n",
    "\tplt.figure()\n",
    "\tsns.lmplot(data=covid, x='Patient age quantile', y=colonne, hue='SARS-Cov-2 exam result')"
   ]
  },
  {
   "cell_type": "code",
   "execution_count": null,
   "metadata": {},
   "outputs": [],
   "source": [
    "covid.corr()['Patient age quantile'].sort_values()"
   ]
  },
  {
   "attachments": {},
   "cell_type": "markdown",
   "metadata": {},
   "source": [
    "Relations viral/viral"
   ]
  },
  {
   "cell_type": "code",
   "execution_count": null,
   "metadata": {},
   "outputs": [],
   "source": [
    "pd.crosstab(covid['Influenza A'], covid['Influenza A, rapid test'])"
   ]
  },
  {
   "cell_type": "code",
   "execution_count": null,
   "metadata": {},
   "outputs": [],
   "source": [
    "pd.crosstab(covid['Influenza B'], covid['Influenza B, rapid test'])"
   ]
  },
  {
   "attachments": {},
   "cell_type": "markdown",
   "metadata": {},
   "source": [
    "Relations viral/sanguin"
   ]
  },
  {
   "attachments": {},
   "cell_type": "markdown",
   "metadata": {},
   "source": [
    "Création d'une nouvelle variable \"est_malade\""
   ]
  },
  {
   "cell_type": "code",
   "execution_count": null,
   "metadata": {},
   "outputs": [],
   "source": [
    "covid[\"is_sick\"] = np.sum(covid[viral_columns[:-2]] == 'detected', axis=1) >= 1 \n",
    "covid.sample(3)"
   ]
  },
  {
   "cell_type": "code",
   "execution_count": null,
   "metadata": {},
   "outputs": [],
   "source": [
    "sick_rows = covid[covid['is_sick'] == True]\n",
    "healthy_rows = covid[covid['is_sick'] == False]"
   ]
  },
  {
   "cell_type": "code",
   "execution_count": null,
   "metadata": {},
   "outputs": [],
   "source": [
    "covid.sample(3)"
   ]
  },
  {
   "cell_type": "code",
   "execution_count": null,
   "metadata": {},
   "outputs": [],
   "source": [
    "for colonne in blood_columns:\n",
    "\tplt.figure()\n",
    "\tsns.distplot(sick_rows[colonne], label='sick')\n",
    "\tsns.distplot(healthy_rows[colonne], label='healthy')\n",
    "\tplt.legend()"
   ]
  },
  {
   "attachments": {},
   "cell_type": "markdown",
   "metadata": {},
   "source": [
    "Relation hospitalisation/malade"
   ]
  },
  {
   "cell_type": "code",
   "execution_count": null,
   "metadata": {},
   "outputs": [],
   "source": [
    "def hospitalisation(df: pd.DataFrame):\n",
    "\tif df['Patient addmited to regular ward (1=yes, 0=no)'] == 1:\n",
    "\t\treturn 'surveillance'\n",
    "\telif df['Patient addmited to semi-intensive unit (1=yes, 0=no)'] == 1:\n",
    "\t\treturn 'soins semi-intensifs'\n",
    "\telif df['Patient addmited to intensive care unit (1=yes, 0=no)'] == 1:\n",
    "\t\treturn 'soins intensifs'\n",
    "\telse:\n",
    "\t\treturn 'inconnu'"
   ]
  },
  {
   "cell_type": "code",
   "execution_count": null,
   "metadata": {},
   "outputs": [],
   "source": [
    "covid['statut'] = covid.apply(hospitalisation, axis=1)"
   ]
  },
  {
   "cell_type": "code",
   "execution_count": null,
   "metadata": {},
   "outputs": [],
   "source": [
    "covid.sample(3)"
   ]
  },
  {
   "cell_type": "code",
   "execution_count": null,
   "metadata": {},
   "outputs": [],
   "source": [
    "for colonne in blood_columns:\n",
    "\tplt.figure()\n",
    "\tfor cat in covid['statut'].unique():\n",
    "\t\tsns.distplot(covid[covid['statut'] == cat][colonne], label=cat)\n",
    "\tplt.legend()"
   ]
  },
  {
   "attachments": {},
   "cell_type": "markdown",
   "metadata": {},
   "source": [
    "Relations variables/variables :\n",
    "- blood_data/blood_data : certaines variables sont très corrélées (+0.9)\n",
    "- blood_data/age : très faible corrélation entre l'age et le taux sanguin\n",
    "- viral/viral : le test rapide de grippe donne de mauvais résultats. Il faudra peut-être la laisser tomber\n",
    "- relation maladie/blood_data : les taux sanguins entre malades et covid 19 sont différents\n",
    "- relation hospitalisation/malade : \n",
    "- relation hospitalisation/blood : intéressant dans le cas où on voudrait prédire dans quel service un patient devrait aller\n",
    "\n",
    "Analyse NaN : viral ~ 1350 (92/8), blood ~ 600 (86/14), both (90/10)\n",
    "\n",
    "Hypothèses de départ :\n",
    "- Les individus atteints du covid 19 ont des taux de leucocytes, monocytes, plaquettes significativement différents\n",
    "- Soit H0 = Les taux moyens sont égaux chez les individus positifs et négatifs\n",
    "- Les individus atteints d'une quelonque maladie ont des taux significativement différents"
   ]
  },
  {
   "attachments": {},
   "cell_type": "markdown",
   "metadata": {},
   "source": [
    "### T-Test"
   ]
  },
  {
   "cell_type": "code",
   "execution_count": null,
   "metadata": {},
   "outputs": [],
   "source": [
    "from scipy.stats import ttest_ind"
   ]
  },
  {
   "cell_type": "code",
   "execution_count": null,
   "metadata": {},
   "outputs": [],
   "source": [
    "print(positive_covid.shape, negative_covid.shape)\n",
    "# les deux tableaux ne comportent pas le même nombre de lignes"
   ]
  },
  {
   "cell_type": "code",
   "execution_count": null,
   "metadata": {},
   "outputs": [],
   "source": [
    "balance_neg = negative_covid.sample(positive_covid.shape[0])"
   ]
  },
  {
   "cell_type": "code",
   "execution_count": null,
   "metadata": {},
   "outputs": [],
   "source": [
    "def t_test(colonne):\n",
    "\talpha = 0.02\n",
    "\tstat, p = ttest_ind(balance_neg[colonne].dropna(), positive_covid[colonne].dropna())\n",
    "\tif p < alpha:\n",
    "\t\treturn 'H0 rejetée'\n",
    "\telse:\n",
    "\t\treturn 'H0 acceptée'"
   ]
  },
  {
   "cell_type": "code",
   "execution_count": null,
   "metadata": {},
   "outputs": [],
   "source": [
    "for colonne in blood_columns:\n",
    "\tprint(f'{colonne :-<50} {t_test(colonne)}')"
   ]
  },
  {
   "attachments": {},
   "cell_type": "markdown",
   "metadata": {},
   "source": [
    "H0 rejetée"
   ]
  }
 ],
 "metadata": {
  "kernelspec": {
   "display_name": "Python 3",
   "language": "python",
   "name": "python3"
  },
  "language_info": {
   "codemirror_mode": {
    "name": "ipython",
    "version": 3
   },
   "file_extension": ".py",
   "mimetype": "text/x-python",
   "name": "python",
   "nbconvert_exporter": "python",
   "pygments_lexer": "ipython3",
   "version": "3.11.2"
  },
  "orig_nbformat": 4,
  "vscode": {
   "interpreter": {
    "hash": "984f0d32ec04950e2fefa43e7d38885b8e5f7ace114fa5bde7896afdbe1d6c9f"
   }
  }
 },
 "nbformat": 4,
 "nbformat_minor": 2
}
